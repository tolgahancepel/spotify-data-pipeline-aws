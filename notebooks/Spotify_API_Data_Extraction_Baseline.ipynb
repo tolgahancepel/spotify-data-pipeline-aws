{
 "cells": [
  {
   "cell_type": "markdown",
   "id": "e4b0d63b",
   "metadata": {},
   "source": [
    "# AWS Spotify Project\n",
    "December 20, 2023\n",
    "\n",
    "## Introduction\n",
    "This Jupyter Notebook serves as a baseline for extracting data from the Spotify API.\n",
    "\n",
    "## Contact Information\n",
    "For any inquiries or suggestions, feel free to reach out:\n",
    "- Author: Tolgahan Cepel\n",
    "- Email: tolgahan.cepel@gmail.com"
   ]
  },
  {
   "cell_type": "code",
   "execution_count": 11,
   "id": "11fbbfc7",
   "metadata": {},
   "outputs": [],
   "source": [
    "import pandas as pd\n",
    "from spotipy.oauth2 import SpotifyClientCredentials\n",
    "import spotipy\n",
    "import json"
   ]
  },
  {
   "cell_type": "markdown",
   "id": "61284cd3",
   "metadata": {},
   "source": [
    "### Retrieve data from Spotify API"
   ]
  },
  {
   "cell_type": "code",
   "execution_count": 12,
   "id": "72f500c6",
   "metadata": {},
   "outputs": [],
   "source": [
    "# client_id = os.environ.get('client_id')\n",
    "# client_secret = os.environ.get('client_secret')\n",
    "\n",
    "client_credential_manager = SpotifyClientCredentials(client_id=\"b8666a68dec346fb9b1c6ee9a72e3902\", client_secret=\"3f6602221b1b4c13a873801b76aba321\")\n",
    "\n",
    "sp = spotipy.Spotify(client_credentials_manager=client_credential_manager)\n",
    "\n",
    "playlist_link = 'https://open.spotify.com/playlist/37i9dQZEVXbIVYVBNw9D5K'\n",
    "playlist_id = playlist_link.split('/')[-1]\n",
    "\n",
    "data = sp.playlist_tracks(playlist_id)"
   ]
  },
  {
   "cell_type": "markdown",
   "id": "a8766fd7",
   "metadata": {},
   "source": [
    "## Transformation: JSON to Tabular"
   ]
  },
  {
   "cell_type": "markdown",
   "id": "06d21590",
   "metadata": {},
   "source": [
    "### Albums\n",
    "```\n",
    "items/\n",
    "    track/\n",
    "        album/\n",
    "            id\n",
    "            name\n",
    "            release_date\n",
    "            total_tracks\n",
    "            external_urls/\n",
    "                spotify\n",
    "```"
   ]
  },
  {
   "cell_type": "markdown",
   "id": "daca0263",
   "metadata": {},
   "source": [
    "| album_id               | album_name | release_date | total_tracks | spotify_url                                           |\n",
    "|------------------------|------------|--------------|--------------|-------------------------------------------------------|\n",
    "| 7HJ1EmY24dwXLBZQj1UrLS | Nefes      | 2023-07-14   | 14           | https://open.spotify.com/album/7HJ1EmY24dwXLBZQj1UrLS |"
   ]
  },
  {
   "cell_type": "code",
   "execution_count": 13,
   "id": "e18472d8",
   "metadata": {
    "scrolled": true
   },
   "outputs": [
    {
     "name": "stdout",
     "output_type": "stream",
     "text": [
      "7HJ1EmY24dwXLBZQj1UrLS\n",
      "Nefes\n",
      "2023-07-14\n",
      "14\n",
      "https://open.spotify.com/album/7HJ1EmY24dwXLBZQj1UrLS\n"
     ]
    }
   ],
   "source": [
    "print(data[\"items\"][0][\"track\"][\"album\"][\"id\"])\n",
    "print(data[\"items\"][0][\"track\"][\"album\"][\"name\"])\n",
    "print(data[\"items\"][0][\"track\"][\"album\"][\"release_date\"])\n",
    "print(data[\"items\"][0][\"track\"][\"album\"][\"total_tracks\"])\n",
    "print(data[\"items\"][0][\"track\"][\"album\"][\"external_urls\"][\"spotify\"])"
   ]
  },
  {
   "cell_type": "code",
   "execution_count": 20,
   "id": "046a67ff",
   "metadata": {},
   "outputs": [],
   "source": [
    "def extract_albums(json_data):\n",
    "    albums_list = []\n",
    "    for row in data[\"items\"]:\n",
    "        album_dict = {\n",
    "            \"album_id\": row[\"track\"][\"album\"][\"id\"],\n",
    "            \"album_name\": row[\"track\"][\"album\"][\"name\"],\n",
    "            \"release_date\": row[\"track\"][\"album\"][\"release_date\"],\n",
    "            \"total_tracks\": row[\"track\"][\"album\"][\"total_tracks\"],\n",
    "            \"spotify_url\": row[\"track\"][\"album\"][\"external_urls\"][\"spotify\"],\n",
    "        }\n",
    "        albums_list.append(album_dict)\n",
    "    return albums_list"
   ]
  },
  {
   "cell_type": "code",
   "execution_count": 24,
   "id": "d52357aa",
   "metadata": {},
   "outputs": [],
   "source": [
    "# extract_albums(data)"
   ]
  },
  {
   "cell_type": "markdown",
   "id": "c62fc812",
   "metadata": {},
   "source": [
    "### Artists\n",
    "```\n",
    "items/\n",
    "    track/\n",
    "        album/\n",
    "            artist\n",
    "```"
   ]
  },
  {
   "cell_type": "code",
   "execution_count": 51,
   "id": "fd9c8e0b",
   "metadata": {},
   "outputs": [
    {
     "name": "stdout",
     "output_type": "stream",
     "text": [
      "7A6T0nTpXnPXDUGM1yEjEj\n",
      "Derya Uluğ\n",
      "artist\n",
      "https://open.spotify.com/artist/7A6T0nTpXnPXDUGM1yEjEj\n"
     ]
    }
   ],
   "source": [
    "print(data[\"items\"][0][\"track\"][\"album\"][\"artists\"][0][\"id\"])\n",
    "print(data[\"items\"][0][\"track\"][\"album\"][\"artists\"][0][\"name\"])\n",
    "print(data[\"items\"][0][\"track\"][\"album\"][\"artists\"][0][\"type\"])\n",
    "print(data[\"items\"][0][\"track\"][\"album\"][\"artists\"][0][\"external_urls\"][\"spotify\"])"
   ]
  },
  {
   "cell_type": "code",
   "execution_count": 46,
   "id": "14882bc2",
   "metadata": {},
   "outputs": [],
   "source": [
    "def extract_artists(json_data):\n",
    "    artists_list = []\n",
    "    for row in data[\"items\"]:\n",
    "        for artist in row[\"track\"][\"album\"][\"artists\"]:\n",
    "            album_dict = {\n",
    "                \"artist_id\": artist[\"name\"],\n",
    "                \"artist_name\": artist[\"id\"],\n",
    "                \"artist_type\": artist[\"type\"],\n",
    "                \"spotify_url\": artist[\"external_urls\"][\"spotify\"],\n",
    "            }\n",
    "        artists_list.append(album_dict)\n",
    "    return artists_list"
   ]
  },
  {
   "cell_type": "code",
   "execution_count": 50,
   "id": "1e5f3275",
   "metadata": {},
   "outputs": [],
   "source": [
    "# extract_artists(data)"
   ]
  },
  {
   "cell_type": "markdown",
   "id": "24ef0438",
   "metadata": {},
   "source": [
    "### Songs\n",
    "```\n",
    "items/\n",
    "    added_at\n",
    "    track/\n",
    "        id\n",
    "        album/\n",
    "            id\n",
    "        artists/\n",
    "            []/\n",
    "                id\n",
    "        name\n",
    "        duration_ms\n",
    "        popularity\n",
    "        external_urls/\n",
    "            spotify\n",
    "```"
   ]
  },
  {
   "cell_type": "code",
   "execution_count": 63,
   "id": "73866698",
   "metadata": {},
   "outputs": [
    {
     "name": "stdout",
     "output_type": "stream",
     "text": [
      "4T73JmNNhtkFBzjRfCeMzN\n",
      "7HJ1EmY24dwXLBZQj1UrLS\n",
      "7A6T0nTpXnPXDUGM1yEjEj\n",
      "Yansıma\n",
      "173608\n",
      "2023-12-20T09:33:48Z\n",
      "77\n",
      "https://open.spotify.com/track/4T73JmNNhtkFBzjRfCeMzN\n"
     ]
    }
   ],
   "source": [
    "print(data[\"items\"][0][\"track\"][\"id\"])\n",
    "print(data[\"items\"][0][\"track\"][\"album\"][\"id\"])\n",
    "print(data[\"items\"][0][\"track\"][\"album\"][\"artists\"][0][\"id\"])\n",
    "print(data[\"items\"][0][\"track\"][\"name\"])\n",
    "print(data[\"items\"][0][\"track\"][\"duration_ms\"])\n",
    "print(data[\"items\"][0][\"added_at\"])\n",
    "print(data[\"items\"][0][\"track\"][\"popularity\"])\n",
    "print(data[\"items\"][0][\"track\"][\"external_urls\"][\"spotify\"])"
   ]
  },
  {
   "cell_type": "code",
   "execution_count": null,
   "id": "d2817383",
   "metadata": {},
   "outputs": [],
   "source": []
  },
  {
   "cell_type": "code",
   "execution_count": null,
   "id": "a5ca5c79",
   "metadata": {},
   "outputs": [],
   "source": []
  },
  {
   "cell_type": "code",
   "execution_count": null,
   "id": "b3a6b606",
   "metadata": {},
   "outputs": [],
   "source": []
  },
  {
   "cell_type": "code",
   "execution_count": null,
   "id": "778bd732",
   "metadata": {},
   "outputs": [],
   "source": []
  },
  {
   "cell_type": "code",
   "execution_count": null,
   "id": "545525ec",
   "metadata": {},
   "outputs": [],
   "source": []
  },
  {
   "cell_type": "code",
   "execution_count": null,
   "id": "622048be",
   "metadata": {},
   "outputs": [],
   "source": []
  },
  {
   "cell_type": "code",
   "execution_count": null,
   "id": "c3e21508",
   "metadata": {},
   "outputs": [],
   "source": []
  },
  {
   "cell_type": "code",
   "execution_count": null,
   "id": "2895b38c",
   "metadata": {},
   "outputs": [],
   "source": []
  },
  {
   "cell_type": "code",
   "execution_count": null,
   "id": "5164672b",
   "metadata": {},
   "outputs": [],
   "source": []
  }
 ],
 "metadata": {
  "kernelspec": {
   "display_name": "Python 3 (ipykernel)",
   "language": "python",
   "name": "python3"
  },
  "language_info": {
   "codemirror_mode": {
    "name": "ipython",
    "version": 3
   },
   "file_extension": ".py",
   "mimetype": "text/x-python",
   "name": "python",
   "nbconvert_exporter": "python",
   "pygments_lexer": "ipython3",
   "version": "3.9.13"
  }
 },
 "nbformat": 4,
 "nbformat_minor": 5
}
