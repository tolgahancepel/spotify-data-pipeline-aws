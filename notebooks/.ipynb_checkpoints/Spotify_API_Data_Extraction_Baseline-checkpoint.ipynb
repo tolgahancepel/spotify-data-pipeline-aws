{
 "cells": [
  {
   "cell_type": "markdown",
   "id": "2bce0036",
   "metadata": {},
   "source": [
    "# AWS Spotify Project\n",
    "December 20, 2023\n",
    "\n",
    "## Introduction\n",
    "This Jupyter Notebook serves as a baseline for extracting data from the Spotify API.\n",
    "\n",
    "## Contact Information\n",
    "For any inquiries or suggestions, feel free to reach out:\n",
    "- Author: Tolgahan Cepel\n",
    "- Email: tolgahan.cepel@gmail.com"
   ]
  },
  {
   "cell_type": "code",
   "execution_count": 1,
   "id": "7167df0b",
   "metadata": {},
   "outputs": [],
   "source": [
    "import pandas as pd\n",
    "from spotipy.oauth2 import SpotifyClientCredentials\n",
    "import spotipy\n",
    "import boto3\n",
    "import json\n",
    "from datetime import datetime"
   ]
  },
  {
   "cell_type": "code",
   "execution_count": 7,
   "id": "8e230f90",
   "metadata": {},
   "outputs": [],
   "source": [
    "client_id = \"<YOUR_CLIENT_ID>\"\n",
    "client_secret = \"<YOUR_CLIENT_SECRET>\"\n",
    "\n",
    "client_credential_manager = SpotifyClientCredentials(client_id=client_id, client_secret=client_secret)\n",
    "\n",
    "sp = spotipy.Spotify(client_credentials_manager=client_credential_manager)\n",
    "\n",
    "playlist_link = 'https://open.spotify.com/playlist/37i9dQZEVXbIVYVBNw9D5K'\n",
    "playlist_id = playlist_link.split('/')[-1]\n",
    "\n",
    "data = sp.playlist_tracks(playlist_id)"
   ]
  },
  {
   "cell_type": "code",
   "execution_count": 3,
   "id": "457467c0",
   "metadata": {},
   "outputs": [],
   "source": [
    "filename = datetime.now().strftime(\"%Y%m%d\") + '_spotify_raw_data' + '.json'"
   ]
  },
  {
   "cell_type": "code",
   "execution_count": 6,
   "id": "6a0c0708",
   "metadata": {},
   "outputs": [
    {
     "name": "stdout",
     "output_type": "stream",
     "text": [
      "20231222_spotify_raw_data.json\n"
     ]
    }
   ],
   "source": [
    "print(filename)"
   ]
  },
  {
   "cell_type": "code",
   "execution_count": 4,
   "id": "8a8a3333",
   "metadata": {},
   "outputs": [],
   "source": [
    "s3 = boto3.client('s3')\n",
    "# s3.put_object(\n",
    "#     Bucket='spotify-etl-pipeline-cepel',\n",
    "#     Key = 'raw_data/' + filename,\n",
    "#     Body = json.dumps(data)\n",
    "# )"
   ]
  }
 ],
 "metadata": {
  "kernelspec": {
   "display_name": "Python 3 (ipykernel)",
   "language": "python",
   "name": "python3"
  },
  "language_info": {
   "codemirror_mode": {
    "name": "ipython",
    "version": 3
   },
   "file_extension": ".py",
   "mimetype": "text/x-python",
   "name": "python",
   "nbconvert_exporter": "python",
   "pygments_lexer": "ipython3",
   "version": "3.9.13"
  }
 },
 "nbformat": 4,
 "nbformat_minor": 5
}
